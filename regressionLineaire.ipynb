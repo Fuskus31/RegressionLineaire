{
 "cells": [
  {
   "cell_type": "markdown",
   "id": "adde0b16-63ae-493b-930e-d17b4c6d9ffd",
   "metadata": {},
   "source": []
  },
  {
   "cell_type": "code",
   "execution_count": 117,
   "id": "bfc77f40-6ac7-420f-bb19-92bb962b7d76",
   "metadata": {},
   "outputs": [],
   "source": [
    "import numpy as np\n",
    "from sklearn.datasets import make_regression\n",
    "import matplotlib.pyplot as plt"
   ]
  },
  {
   "cell_type": "code",
   "execution_count": 118,
   "id": "652f8ad9-0eaa-48d4-87b8-fb275982c433",
   "metadata": {},
   "outputs": [
    {
     "data": {
      "text/plain": [
       "<matplotlib.collections.PathCollection at 0x1128c42d0>"
      ]
     },
     "execution_count": 118,
     "metadata": {},
     "output_type": "execute_result"
    },
    {
     "data": {
      "image/png": "[encoded data removed]",
      "text/plain": [
       "<Figure size 640x480 with 1 Axes>"
      ]
     },
     "metadata": {},
     "output_type": "display_data"
    }
   ],
   "source": [
    "x, y = make_regression(n_samples = 100, n_features=1,noise=10)\n",
    "plt.scatter(x,y)"
   ]
  },
  {
   "cell_type": "code",
   "execution_count": 134,
   "id": "645e04ff-4db7-43b1-a162-3dc9788cb243",
   "metadata": {},
   "outputs": [
    {
     "name": "stdout",
     "output_type": "stream",
     "text": [
      "(100, 1)\n",
      "(100, 1)\n"
     ]
    },
    {
     "data": {
      "text/plain": [
       "numpy.ndarray"
      ]
     },
     "execution_count": 134,
     "metadata": {},
     "output_type": "execute_result"
    }
   ],
   "source": [
    "print(x.shape)\n",
    "y = y.reshape(y.shape[0], 1 )\n",
    "print(y.shape)\n",
    "type(y)"
   ]
  },
  {
   "cell_type": "code",
   "execution_count": 120,
   "id": "380c4368-368f-4d7d-b298-e33b2158f779",
   "metadata": {},
   "outputs": [
    {
     "data": {
      "text/plain": [
       "array([[ 0.45046865,  1.        ],\n",
       "       [-0.5240336 ,  1.        ],\n",
       "       [ 1.19174459,  1.        ],\n",
       "       [-0.28507686,  1.        ],\n",
       "       [-0.80865668,  1.        ],\n",
       "       [-0.67937655,  1.        ],\n",
       "       [-0.76639435,  1.        ],\n",
       "       [ 0.11331403,  1.        ],\n",
       "       [ 0.63938276,  1.        ],\n",
       "       [ 1.32392533,  1.        ],\n",
       "       [-0.21069638,  1.        ],\n",
       "       [ 1.73736709,  1.        ],\n",
       "       [-0.60008087,  1.        ],\n",
       "       [-0.57514556,  1.        ],\n",
       "       [ 0.94751553,  1.        ],\n",
       "       [-2.72644818,  1.        ],\n",
       "       [-0.13823431,  1.        ],\n",
       "       [-0.41938021,  1.        ],\n",
       "       [ 0.33997679,  1.        ],\n",
       "       [ 0.22956265,  1.        ],\n",
       "       [ 0.75453147,  1.        ],\n",
       "       [-1.16295218,  1.        ],\n",
       "       [ 0.02089227,  1.        ],\n",
       "       [ 1.03654089,  1.        ],\n",
       "       [-0.26942279,  1.        ],\n",
       "       [-1.05191096,  1.        ],\n",
       "       [-0.33251539,  1.        ],\n",
       "       [ 1.03006747,  1.        ],\n",
       "       [-0.49924184,  1.        ],\n",
       "       [-0.15873077,  1.        ],\n",
       "       [ 1.75852994,  1.        ],\n",
       "       [ 0.7581904 ,  1.        ],\n",
       "       [-1.33885101,  1.        ],\n",
       "       [ 1.23924643,  1.        ],\n",
       "       [ 0.24859226,  1.        ],\n",
       "       [-1.3743322 ,  1.        ],\n",
       "       [-0.30565294,  1.        ],\n",
       "       [ 0.35610044,  1.        ],\n",
       "       [ 0.62417142,  1.        ],\n",
       "       [ 0.90963711,  1.        ],\n",
       "       [-1.11228655,  1.        ],\n",
       "       [ 1.95322131,  1.        ],\n",
       "       [-1.38393699,  1.        ],\n",
       "       [ 0.06006332,  1.        ],\n",
       "       [-0.84827889,  1.        ],\n",
       "       [ 1.37149461,  1.        ],\n",
       "       [ 1.13907322,  1.        ],\n",
       "       [ 0.97174439,  1.        ],\n",
       "       [-0.32204308,  1.        ],\n",
       "       [-0.41848401,  1.        ],\n",
       "       [ 2.30680938,  1.        ],\n",
       "       [ 1.24884742,  1.        ],\n",
       "       [ 1.54438024,  1.        ],\n",
       "       [-0.28989661,  1.        ],\n",
       "       [ 0.83848668,  1.        ],\n",
       "       [ 0.09404223,  1.        ],\n",
       "       [ 1.10399712,  1.        ],\n",
       "       [ 0.31165546,  1.        ],\n",
       "       [ 0.60839028,  1.        ],\n",
       "       [ 0.13341694,  1.        ],\n",
       "       [-1.62378329,  1.        ],\n",
       "       [-0.92563302,  1.        ],\n",
       "       [ 2.37360571,  1.        ],\n",
       "       [-0.49725878,  1.        ],\n",
       "       [ 1.85537264,  1.        ],\n",
       "       [-0.91070821,  1.        ],\n",
       "       [ 0.80206078,  1.        ],\n",
       "       [ 0.07488529,  1.        ],\n",
       "       [ 1.82016926,  1.        ],\n",
       "       [ 1.58747898,  1.        ],\n",
       "       [ 2.63422207,  1.        ],\n",
       "       [-0.05285349,  1.        ],\n",
       "       [ 0.64523265,  1.        ],\n",
       "       [-1.40455049,  1.        ],\n",
       "       [ 1.16017591,  1.        ],\n",
       "       [-0.22421318,  1.        ],\n",
       "       [ 1.51953755,  1.        ],\n",
       "       [ 0.59855509,  1.        ],\n",
       "       [-0.15476968,  1.        ],\n",
       "       [-1.14804441,  1.        ],\n",
       "       [ 2.54554668,  1.        ],\n",
       "       [ 0.01248136,  1.        ],\n",
       "       [ 0.84085839,  1.        ],\n",
       "       [-0.03431117,  1.        ],\n",
       "       [-0.81686414,  1.        ],\n",
       "       [ 0.47604909,  1.        ],\n",
       "       [ 0.25682745,  1.        ],\n",
       "       [-1.03576967,  1.        ],\n",
       "       [-1.5512544 ,  1.        ],\n",
       "       [ 0.64478885,  1.        ],\n",
       "       [ 1.61300978,  1.        ],\n",
       "       [ 0.32674384,  1.        ],\n",
       "       [-0.5560621 ,  1.        ],\n",
       "       [ 0.10872443,  1.        ],\n",
       "       [-0.4650296 ,  1.        ],\n",
       "       [-1.28013605,  1.        ],\n",
       "       [-0.25169266,  1.        ],\n",
       "       [ 0.68357166,  1.        ],\n",
       "       [-0.03714645,  1.        ],\n",
       "       [ 0.40662315,  1.        ]])"
      ]
     },
     "execution_count": 120,
     "metadata": {},
     "output_type": "execute_result"
    }
   ],
   "source": [
    "#matrice X\n",
    "X = np.hstack((x,np.ones(x.shape)))\n",
    "X"
   ]
  },
  {
   "cell_type": "code",
   "execution_count": 121,
   "id": "fc64b253-539b-4424-a681-808580359a30",
   "metadata": {},
   "outputs": [
    {
     "name": "stdout",
     "output_type": "stream",
     "text": [
      "[[-0.32110704]\n",
      " [ 0.83303933]]\n"
     ]
    }
   ],
   "source": [
    "theta = np.random.randn(2,1) # regression linaire fx = ax+b \n",
    "print(theta)"
   ]
  },
  {
   "cell_type": "markdown",
   "id": "4074d5d3-b65f-4592-80f7-b707e43e24ef",
   "metadata": {},
   "source": [
    "# modele lineaire"
   ]
  },
  {
   "cell_type": "code",
   "execution_count": 122,
   "id": "0666dc3e-3669-47f1-8590-bdd90a0af9e4",
   "metadata": {},
   "outputs": [],
   "source": [
    "def model(X,theta):\n",
    "    return X.dot(theta) # F = X.θ      thetaθ"
   ]
  },
  {
   "cell_type": "code",
   "execution_count": 123,
   "id": "dbe3f715-ca52-4c3c-860b-766ccedf2eb9",
   "metadata": {},
   "outputs": [
    {
     "data": {
      "text/plain": [
       "[<matplotlib.lines.Line2D at 0x112925310>]"
      ]
     },
     "execution_count": 123,
     "metadata": {},
     "output_type": "execute_result"
    },
    {
     "data": {
      "image/png": "[encoded data removed]",
      "text/plain": [
       "<Figure size 640x480 with 1 Axes>"
      ]
     },
     "metadata": {},
     "output_type": "display_data"
    }
   ],
   "source": [
    "plt.scatter(x,y)\n",
    "plt.plot(x,model(X,theta), c='r')"
   ]
  },
  {
   "cell_type": "markdown",
   "id": "8bf0d286-0daf-4f86-b33d-af2f6f15c19f",
   "metadata": {},
   "source": [
    "# fonction cout"
   ]
  },
  {
   "cell_type": "code",
   "execution_count": 124,
   "id": "c0f2ca9f-56fa-4d39-869a-a163caef24a6",
   "metadata": {},
   "outputs": [],
   "source": [
    "def cost_function(X,y,theta):\n",
    "    m = len(y) # y a le m exemples dans le dataset\n",
    "    return 1/(2*m) * np.sum((model(X,theta) - y )**2)"
   ]
  },
  {
   "cell_type": "code",
   "execution_count": 125,
   "id": "23ff30cb-7ce4-4913-afb9-25e318cf87a6",
   "metadata": {},
   "outputs": [
    {
     "data": {
      "text/plain": [
       "np.float64(5082.078213159874)"
      ]
     },
     "execution_count": 125,
     "metadata": {},
     "output_type": "execute_result"
    }
   ],
   "source": [
    "cost_function(X,y,theta)"
   ]
  },
  {
   "cell_type": "markdown",
   "id": "b4a1fd22-c9ec-42b9-9432-b3482d8c3ccb",
   "metadata": {},
   "source": [
    "## gradients et descente de gradient"
   ]
  },
  {
   "cell_type": "code",
   "execution_count": 126,
   "id": "088d9a99-641e-442d-a05d-99221fcd74f9",
   "metadata": {},
   "outputs": [],
   "source": [
    "def grad(X,y,theta):\n",
    "    m = len(y)\n",
    "    return 1/m * X.T.dot(model(X,theta) - y )"
   ]
  },
  {
   "cell_type": "code",
   "execution_count": 127,
   "id": "d295d29d-aa54-43da-a2e0-c3c7396b6e3b",
   "metadata": {},
   "outputs": [],
   "source": [
    "def gradient_descent(X,y,theta,learning_rate,n_iterations):\n",
    "\n",
    "    cost_history = np.zeros(n_iterations)\n",
    "\n",
    "    for i in range(0,n_iterations):\n",
    "        theta = theta - learning_rate * grad(X,y,theta)\n",
    "        cost_history[i] = cost_function(X,y,theta)\n",
    "    return theta, cost_history"
   ]
  },
  {
   "cell_type": "markdown",
   "id": "4262e62b-6121-44f7-a364-7afa2fe073e4",
   "metadata": {},
   "source": [
    "# Finalement\n"
   ]
  },
  {
   "cell_type": "code",
   "execution_count": 128,
   "id": "fd15f62a-9fc0-4ef0-a822-83419125b7c4",
   "metadata": {},
   "outputs": [],
   "source": [
    "theta_final, cost_history = gradient_descent(X,y,theta,learning_rate=0.01,n_iterations=1000)"
   ]
  },
  {
   "cell_type": "code",
   "execution_count": 129,
   "id": "f1b8bd03-c9cf-4f3f-a187-61da3d19dfa8",
   "metadata": {},
   "outputs": [
    {
     "data": {
      "text/plain": [
       "array([[95.64903822],\n",
       "       [-2.38402199]])"
      ]
     },
     "execution_count": 129,
     "metadata": {},
     "output_type": "execute_result"
    }
   ],
   "source": [
    "theta_final"
   ]
  },
  {
   "cell_type": "code",
   "execution_count": 130,
   "id": "0135f424-4b27-4355-bfe2-e08e30dccc53",
   "metadata": {},
   "outputs": [
    {
     "data": {
      "text/plain": [
       "[<matplotlib.lines.Line2D at 0x112982490>]"
      ]
     },
     "execution_count": 130,
     "metadata": {},
     "output_type": "execute_result"
    },
    {
     "data": {
      "image/png": "[encoded data removed]",
      "text/plain": [
       "<Figure size 640x480 with 1 Axes>"
      ]
     },
     "metadata": {},
     "output_type": "display_data"
    }
   ],
   "source": [
    "predictions = model(X,theta_final)\n",
    "plt.scatter(x,y)\n",
    "plt.plot(x,predictions,c='r')"
   ]
  },
  {
   "cell_type": "code",
   "execution_count": 131,
   "id": "f2e69dab-2ad9-4c22-8703-b5c7479b4e91",
   "metadata": {},
   "outputs": [
    {
     "data": {
      "text/plain": [
       "[<matplotlib.lines.Line2D at 0x1129e3390>]"
      ]
     },
     "execution_count": 131,
     "metadata": {},
     "output_type": "execute_result"
    },
    {
     "data": {
      "image/png": "[encoded data removed]",
      "text/plain": [
       "<Figure size 640x480 with 1 Axes>"
      ]
     },
     "metadata": {},
     "output_type": "display_data"
    }
   ],
   "source": [
    "plt.plot(range(1000),cost_history)"
   ]
  },
  {
   "cell_type": "markdown",
   "id": "ff3b1d89-bbd2-408d-8997-ec46d6bab40a",
   "metadata": {},
   "source": [
    "cost history nous montre qu'on pouvait arreter l'algorithme vers l'iteration 400 selon les datas generees"
   ]
  },
  {
   "cell_type": "markdown",
   "id": "9bb53ece-cfa3-4f92-90cd-6257229404a1",
   "metadata": {},
   "source": [
    "### afficher le coefficient de determination\n",
    "$$ R^2 = 1 - \\frac{\\sum_{i=1}^{n} (y_i - f(x))^2}{\\sum_{i=1}^{n} (y_i - \\bar{y})^2} $$\n"
   ]
  },
  {
   "cell_type": "code",
   "execution_count": 132,
   "id": "82fcf017-e430-4101-8793-23e84ec17ebe",
   "metadata": {},
   "outputs": [],
   "source": [
    "def coef_determination(y,pred):\n",
    "    u = ((y - pred)**2).sum()\n",
    "    v = ((y - y.mean())**2).sum()\n",
    "    return 1 - u/v"
   ]
  },
  {
   "cell_type": "code",
   "execution_count": 133,
   "id": "84a5b395-15e7-4968-8f4f-c5a8a867cbc3",
   "metadata": {},
   "outputs": [
    {
     "name": "stdout",
     "output_type": "stream",
     "text": [
      "0.9909384426255259\n"
     ]
    }
   ],
   "source": [
    "print(coef_determination(y,predictions))"
   ]
  },
  {
   "cell_type": "code",
   "execution_count": null,
   "id": "98ac9c43-3924-4978-acc0-246ab761c138",
   "metadata": {},
   "outputs": [],
   "source": []
  }
 ],
 "metadata": {
  "kernelspec": {
   "display_name": "Python 3 (ipykernel)",
   "language": "python",
   "name": "python3"
  },
  "language_info": {
   "codemirror_mode": {
    "name": "ipython",
    "version": 3
   },
   "file_extension": ".py",
   "mimetype": "text/x-python",
   "name": "python",
   "nbconvert_exporter": "python",
   "pygments_lexer": "ipython3",
   "version": "3.13.2"
  }
 },
 "nbformat": 4,
 "nbformat_minor": 5
}
